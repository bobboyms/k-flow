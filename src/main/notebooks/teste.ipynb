{
 "cells": [
  {
   "cell_type": "code",
   "execution_count": 33,
   "metadata": {
    "collapsed": true,
    "ExecuteTime": {
     "end_time": "2023-09-18T23:44:21.567844Z",
     "start_time": "2023-09-18T23:44:21.473081Z"
    }
   },
   "outputs": [],
   "source": [
    "import br.com.kflow.linear.*\n",
    "import br.com.kflow.value.*\n",
    "import br.com.kflow.loss.quadratic\n",
    "import java.util.*"
   ]
  },
  {
   "cell_type": "code",
   "execution_count": 58,
   "outputs": [],
   "source": [
    "val xTest = Tensor(values = listOf(1.2f, 2.5f, 3.2f, 4.5f, 3.5f, 2.5f), shape = arrayOf(3, 2), name = \"a\", requiresGrad = true)\n",
    "val yTest = Tensor(values = listOf(5.2f, 2.3f, 3.5f, 6.5f, 8.5f, 6.5f), shape = arrayOf(3, 2), name = \"b\",\n",
    "requiresGrad = false)\n",
    "\n",
    "val lr = Value(0.01 as Number)"
   ],
   "metadata": {
    "collapsed": false,
    "ExecuteTime": {
     "end_time": "2023-09-18T23:53:21.099239Z",
     "start_time": "2023-09-18T23:53:21.003794Z"
    }
   }
  },
  {
   "cell_type": "code",
   "execution_count": 60,
   "outputs": [
    {
     "name": "stdout",
     "output_type": "stream",
     "text": [
      "Step: 0 Loss: 0.99168396\n",
      "Step: 100 Loss: 0.017442474\n"
     ]
    }
   ],
   "source": [
    "for (step in 0..101) {\n",
    "    val c = quadratic(yTest,xTest)\n",
    "    val loss = Sum(c)\n",
    "    loss.backward(Value(1))\n",
    "\n",
    "    xTest.changeValue(xTest.value() - lr * xTest.grad())\n",
    "    loss.zeroGrad()\n",
    "\n",
    "    if (step % 100 == 0) {\n",
    "        println(\"Step: \" + step + \" Loss: \" + loss.value().values()[0])\n",
    "    }\n",
    "}"
   ],
   "metadata": {
    "collapsed": false,
    "ExecuteTime": {
     "end_time": "2023-09-18T23:53:26.050820Z",
     "start_time": "2023-09-18T23:53:25.926516Z"
    }
   }
  },
  {
   "cell_type": "code",
   "execution_count": 48,
   "outputs": [
    {
     "name": "stdout",
     "output_type": "stream",
     "text": [
      "[[5.1999884, 2.300006],\n",
      " [3.4999943, 6.4999886],\n",
      " [8.499977, 6.4999886]]\n"
     ]
    }
   ],
   "source": [
    "variable1.value().printMatrix()"
   ],
   "metadata": {
    "collapsed": false,
    "ExecuteTime": {
     "end_time": "2023-09-18T23:47:51.613962Z",
     "start_time": "2023-09-18T23:47:51.505608Z"
    }
   }
  },
  {
   "cell_type": "code",
   "execution_count": 49,
   "outputs": [
    {
     "name": "stdout",
     "output_type": "stream",
     "text": [
      "[[9.850396E-10]]\n"
     ]
    }
   ],
   "source": [
    "Sum(quadratic(variable1,variable2)).value().printMatrix()"
   ],
   "metadata": {
    "collapsed": false,
    "ExecuteTime": {
     "end_time": "2023-09-18T23:47:54.225906Z",
     "start_time": "2023-09-18T23:47:54.118348Z"
    }
   }
  }
 ],
 "metadata": {
  "kernelspec": {
   "display_name": "Kotlin",
   "language": "kotlin",
   "name": "kotlin"
  },
  "language_info": {
   "name": "kotlin",
   "version": "1.8.20",
   "mimetype": "text/x-kotlin",
   "file_extension": ".kt",
   "pygments_lexer": "kotlin",
   "codemirror_mode": "text/x-kotlin",
   "nbconvert_exporter": ""
  },
  "ktnbPluginMetadata": {
   "projectDependencies": [
    "kflow.main",
    "kflow.test"
   ]
  }
 },
 "nbformat": 4,
 "nbformat_minor": 0
}
