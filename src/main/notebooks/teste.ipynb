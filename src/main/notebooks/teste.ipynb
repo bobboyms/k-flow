{
 "cells": [
  {
   "cell_type": "code",
   "execution_count": 12,
   "metadata": {
    "collapsed": true,
    "ExecuteTime": {
     "end_time": "2023-09-19T11:51:58.849728Z",
     "start_time": "2023-09-19T11:51:58.787630Z"
    }
   },
   "outputs": [],
   "source": [
    "import br.com.kflow.linear.*\n",
    "import br.com.kflow.value.*\n",
    "import br.com.kflow.computerGraph.*\n",
    "import br.com.kflow.loss.*\n",
    "import java.util.*"
   ]
  },
  {
   "cell_type": "code",
   "execution_count": 2,
   "outputs": [],
   "source": [
    "val xTest = Tensor(values = listOf(1.2f, 2.5f, 3.2f, 4.5f, 3.5f, 2.5f), shape = arrayOf(3, 2), name = \"a\", requiresGrad = true)\n",
    "val yTest = Tensor(values = listOf(5.2f, 2.3f, 3.5f, 6.5f, 8.5f, 6.5f), shape = arrayOf(3, 2), name = \"b\",\n",
    "requiresGrad = false)\n",
    "\n",
    "val lr = Value(0.01 as Number)"
   ],
   "metadata": {
    "collapsed": false,
    "ExecuteTime": {
     "end_time": "2023-09-19T11:50:31.096755Z",
     "start_time": "2023-09-19T11:50:30.862288Z"
    }
   }
  },
  {
   "cell_type": "code",
   "execution_count": 7,
   "outputs": [
    {
     "name": "stdout",
     "output_type": "stream",
     "text": [
      "Step: 0 Loss: 7.4844934E-8\n",
      "Step: 100 Loss: 1.4875354E-9\n",
      "Step: 200 Loss: 9.850396E-10\n"
     ]
    }
   ],
   "source": [
    "for (step in 0..201) {\n",
    "    val c = quadratic(yTest,xTest)\n",
    "    val loss = Sum(c)\n",
    "    loss.backward(Value(1))\n",
    "\n",
    "    xTest.changeValue(xTest.value() - lr * xTest.grad())\n",
    "    loss.zeroGrad()\n",
    "\n",
    "    if (step % 100 == 0) {\n",
    "        println(\"Step: \" + step + \" Loss: \" + loss.value().values()[0])\n",
    "    }\n",
    "}"
   ],
   "metadata": {
    "collapsed": false,
    "ExecuteTime": {
     "end_time": "2023-09-19T11:50:59.962Z",
     "start_time": "2023-09-19T11:50:59.818303Z"
    }
   }
  },
  {
   "cell_type": "code",
   "execution_count": 9,
   "outputs": [
    {
     "name": "stdout",
     "output_type": "stream",
     "text": [
      "[[5.1999884, 2.300006],\n",
      " [3.4999943, 6.4999886],\n",
      " [8.499977, 6.4999886]]\n"
     ]
    }
   ],
   "source": [
    "xTest.value().printMatrix()"
   ],
   "metadata": {
    "collapsed": false,
    "ExecuteTime": {
     "end_time": "2023-09-19T11:51:26.058849Z",
     "start_time": "2023-09-19T11:51:25.975623Z"
    }
   }
  },
  {
   "cell_type": "code",
   "execution_count": 15,
   "outputs": [
    {
     "name": "stdout",
     "output_type": "stream",
     "text": [
      "[[1.6417327E-10]]\n"
     ]
    }
   ],
   "source": [
    "MSE(yTest,xTest).value().printMatrix()"
   ],
   "metadata": {
    "collapsed": false,
    "ExecuteTime": {
     "end_time": "2023-09-19T11:52:16.769868Z",
     "start_time": "2023-09-19T11:52:16.636369Z"
    }
   }
  }
 ],
 "metadata": {
  "kernelspec": {
   "display_name": "Kotlin",
   "language": "kotlin",
   "name": "kotlin"
  },
  "language_info": {
   "name": "kotlin",
   "version": "1.8.20",
   "mimetype": "text/x-kotlin",
   "file_extension": ".kt",
   "pygments_lexer": "kotlin",
   "codemirror_mode": "text/x-kotlin",
   "nbconvert_exporter": ""
  },
  "ktnbPluginMetadata": {
   "projectDependencies": [
    "kflow.main",
    "kflow.test"
   ]
  }
 },
 "nbformat": 4,
 "nbformat_minor": 0
}
