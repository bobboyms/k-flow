{
 "cells": [
  {
   "cell_type": "code",
   "execution_count": 9,
   "metadata": {
    "collapsed": true,
    "ExecuteTime": {
     "end_time": "2023-09-12T14:40:20.073461Z",
     "start_time": "2023-09-12T14:40:19.841288Z"
    }
   },
   "outputs": [],
   "source": [
    "import br.com.kflow.linear.*\n",
    "\n",
    "fun calcError(a:Variable, b:Variable): Node<Number> {\n",
    "    return Pow((a - b), Constant(2))\n",
    "}"
   ]
  },
  {
   "cell_type": "code",
   "execution_count": 10,
   "outputs": [],
   "source": [
    "val variable1 = Variable(values = listOf(1.2f, 2.5f, 3.2f, 4.5f, 3.5f, 2.5f), shape = arrayOf(3, 2), name = \"a\", requiresGrad = true)\n",
    "val variable2 = Variable(values = listOf(5.2f, 2.3f, 3.5f, 6.5f, 8.5f, 6.5f), shape = arrayOf(3, 2), name = \"b\", requiresGrad = false)\n",
    "\n",
    "val lr = Constant(0.01 as Number)"
   ],
   "metadata": {
    "collapsed": false,
    "ExecuteTime": {
     "end_time": "2023-09-12T14:40:20.172888Z",
     "start_time": "2023-09-12T14:40:20.050311Z"
    }
   }
  },
  {
   "cell_type": "code",
   "execution_count": 11,
   "outputs": [
    {
     "name": "stdout",
     "output_type": "stream",
     "text": [
      "Step: 0 Loss: 61.129997\n",
      "Step: 100 Loss: 1.0751498\n",
      "Step: 200 Loss: 0.018910462\n",
      "Step: 300 Loss: 3.3263527E-4\n",
      "Step: 400 Loss: 5.8429764E-6\n",
      "Step: 500 Loss: 1.03057914E-7\n",
      "Step: 600 Loss: 1.905903E-9\n",
      "Step: 700 Loss: 9.850396E-10\n"
     ]
    }
   ],
   "source": [
    "for (step in 0..700) {\n",
    "    val c = calcError(variable1,variable2)\n",
    "    val loss = Sum(c)\n",
    "    loss.backward(Constant(1))\n",
    "\n",
    "    variable1.changeValue(variable1.value() - lr * variable1.grad())\n",
    "    c.zeroGrad()\n",
    "\n",
    "    if (step % 100 == 0) {\n",
    "        println(\"Step: \" + step + \" Loss: \" + loss.value().values()[0])\n",
    "    }\n",
    "}"
   ],
   "metadata": {
    "collapsed": false,
    "ExecuteTime": {
     "end_time": "2023-09-12T14:40:20.407309Z",
     "start_time": "2023-09-12T14:40:20.172253Z"
    }
   }
  },
  {
   "cell_type": "code",
   "execution_count": 12,
   "outputs": [
    {
     "name": "stdout",
     "output_type": "stream",
     "text": [
      "[[5.1999884, 2.300006],\n",
      " [3.4999943, 6.4999886],\n",
      " [8.499977, 6.4999886]]\n"
     ]
    }
   ],
   "source": [
    "variable1.value().printMatrix()"
   ],
   "metadata": {
    "collapsed": false,
    "ExecuteTime": {
     "end_time": "2023-09-12T14:40:20.460268Z",
     "start_time": "2023-09-12T14:40:20.404676Z"
    }
   }
  },
  {
   "cell_type": "code",
   "execution_count": 13,
   "outputs": [
    {
     "name": "stdout",
     "output_type": "stream",
     "text": [
      "[[1.3096724E-10, 3.5527137E-11],\n",
      " [3.274181E-11, 1.3096724E-10],\n",
      " [5.2386895E-10, 1.3096724E-10]]\n"
     ]
    }
   ],
   "source": [
    "calcError(variable1,variable2).value().printMatrix()"
   ],
   "metadata": {
    "collapsed": false,
    "ExecuteTime": {
     "end_time": "2023-09-12T14:40:20.519720Z",
     "start_time": "2023-09-12T14:40:20.453821Z"
    }
   }
  }
 ],
 "metadata": {
  "kernelspec": {
   "display_name": "Kotlin",
   "language": "kotlin",
   "name": "kotlin"
  },
  "language_info": {
   "name": "kotlin",
   "version": "1.8.20",
   "mimetype": "text/x-kotlin",
   "file_extension": ".kt",
   "pygments_lexer": "kotlin",
   "codemirror_mode": "text/x-kotlin",
   "nbconvert_exporter": ""
  },
  "ktnbPluginMetadata": {
   "projectDependencies": true
  }
 },
 "nbformat": 4,
 "nbformat_minor": 0
}
