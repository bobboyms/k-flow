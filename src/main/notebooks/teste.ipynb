{
 "cells": [
  {
   "cell_type": "code",
   "execution_count": 1,
   "metadata": {
    "collapsed": true,
    "ExecuteTime": {
     "end_time": "2023-09-19T16:41:34.879387Z",
     "start_time": "2023-09-19T16:41:34.815400Z"
    }
   },
   "outputs": [],
   "source": [
    "import br.com.kflow.linear.*\n",
    "import br.com.kflow.value.*\n",
    "import br.com.kflow.computerGraph.*\n",
    "import br.com.kflow.loss.*\n",
    "import java.util.*"
   ]
  },
  {
   "cell_type": "code",
   "execution_count": 2,
   "outputs": [],
   "source": [
    "val xTest = Tensor(values = listOf(1.2f, 2.5f, 3.2f, 4.5f, 3.5f, 2.5f), shape = arrayOf(3, 2), name = \"a\", requiresGrad = true)\n",
    "val yTest = Tensor(values = listOf(5.2f, 2.3f, 3.5f, 6.5f, 8.5f, 6.5f), shape = arrayOf(3, 2), name = \"b\",\n",
    "requiresGrad = false)\n",
    "\n",
    "val lr = Value(0.01 as Number)"
   ],
   "metadata": {
    "collapsed": false,
    "ExecuteTime": {
     "end_time": "2023-09-19T16:41:35.048942Z",
     "start_time": "2023-09-19T16:41:34.878292Z"
    }
   }
  },
  {
   "cell_type": "code",
   "execution_count": 3,
   "outputs": [
    {
     "name": "stdout",
     "output_type": "stream",
     "text": [
      "Step: 0 Loss: 61.129997\n",
      "Step: 100 Loss: 1.0751498\n",
      "Step: 200 Loss: 0.018910462\n"
     ]
    }
   ],
   "source": [
    "for (step in 0..201) {\n",
    "    val c = quadratic(yTest,xTest)\n",
    "    val loss = Sum(c)\n",
    "    loss.backward(Value(1))\n",
    "\n",
    "    xTest.changeValue(xTest.value() - lr * xTest.grad())\n",
    "    loss.zeroGrad()\n",
    "\n",
    "    if (step % 100 == 0) {\n",
    "        println(\"Step: \" + step + \" Loss: \" + loss.value().values()[0])\n",
    "    }\n",
    "}"
   ],
   "metadata": {
    "collapsed": false,
    "ExecuteTime": {
     "end_time": "2023-09-19T16:41:35.338026Z",
     "start_time": "2023-09-19T16:41:35.050162Z"
    }
   }
  },
  {
   "cell_type": "code",
   "execution_count": 4,
   "outputs": [
    {
     "name": "stdout",
     "output_type": "stream",
     "text": [
      "[[5.132433, 2.3033783],\n",
      " [3.4949331, 6.466217],\n",
      " [8.41554, 6.432433]]\n"
     ]
    }
   ],
   "source": [
    "xTest.value().printMatrix()"
   ],
   "metadata": {
    "collapsed": false,
    "ExecuteTime": {
     "end_time": "2023-09-19T16:41:35.391656Z",
     "start_time": "2023-09-19T16:41:35.341149Z"
    }
   }
  },
  {
   "cell_type": "code",
   "execution_count": 5,
   "outputs": [
    {
     "name": "stdout",
     "output_type": "stream",
     "text": [
      "[[0.002907079]]\n"
     ]
    }
   ],
   "source": [
    "MSE(yTest,xTest).value().printMatrix()"
   ],
   "metadata": {
    "collapsed": false,
    "ExecuteTime": {
     "end_time": "2023-09-19T16:41:35.437185Z",
     "start_time": "2023-09-19T16:41:35.390873Z"
    }
   }
  }
 ],
 "metadata": {
  "kernelspec": {
   "display_name": "Kotlin",
   "language": "kotlin",
   "name": "kotlin"
  },
  "language_info": {
   "name": "kotlin",
   "version": "1.8.20",
   "mimetype": "text/x-kotlin",
   "file_extension": ".kt",
   "pygments_lexer": "kotlin",
   "codemirror_mode": "text/x-kotlin",
   "nbconvert_exporter": ""
  },
  "ktnbPluginMetadata": {
   "projectDependencies": [
    "kflow.main",
    "kflow.test"
   ]
  }
 },
 "nbformat": 4,
 "nbformat_minor": 0
}
