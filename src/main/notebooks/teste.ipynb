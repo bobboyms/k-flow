{
 "cells": [
  {
   "cell_type": "code",
   "execution_count": 17,
   "metadata": {
    "collapsed": true,
    "ExecuteTime": {
     "end_time": "2023-09-07T17:10:58.218163Z",
     "start_time": "2023-09-07T17:10:58.117376Z"
    }
   },
   "outputs": [],
   "source": [
    "import linear.*\n",
    "\n",
    "fun calcError(a:Variable, b:Variable): Node<Number> {\n",
    "    return Pow((a - b), Constant(2))\n",
    "}"
   ]
  },
  {
   "cell_type": "code",
   "execution_count": 30,
   "outputs": [],
   "source": [
    "val variable1 = Variable(values = listOf(1.2f, 2.5f, 3.2f, 4.5f, 3.5f, 2.5f), shape = arrayOf(3, 2), name = \"a\", requiresGrad = true)\n",
    "val variable2 = Variable(values = listOf(5.2f, 2.3f, 3.5f, 6.5f, 8.5f, 6.5f), shape = arrayOf(3, 2), name = \"b\", requiresGrad = false)\n",
    "\n",
    "val lr = Constant(0.01 as Number)"
   ],
   "metadata": {
    "collapsed": false,
    "ExecuteTime": {
     "end_time": "2023-09-07T17:12:25.656125Z",
     "start_time": "2023-09-07T17:12:25.524099Z"
    }
   }
  },
  {
   "cell_type": "code",
   "execution_count": 32,
   "outputs": [
    {
     "name": "stdout",
     "output_type": "stream",
     "text": [
      "Step: 0 Loss: 9.850396E-10\n",
      "Step: 100 Loss: 9.850396E-10\n",
      "Step: 200 Loss: 9.850396E-10\n",
      "Step: 300 Loss: 9.850396E-10\n",
      "Step: 400 Loss: 9.850396E-10\n",
      "Step: 500 Loss: 9.850396E-10\n",
      "Step: 600 Loss: 9.850396E-10\n",
      "Step: 700 Loss: 9.850396E-10\n"
     ]
    }
   ],
   "source": [
    "for (step in 0..700) {\n",
    "    val c = calcError(variable1,variable2)\n",
    "    val loss = Sum(c)\n",
    "    loss.backward(Constant(1))\n",
    "\n",
    "    variable1.changeValue(variable1.value() - lr * variable1.grad())\n",
    "    c.zeroGrad()\n",
    "\n",
    "    if (step % 100 == 0) {\n",
    "        println(\"Step: \" + step + \" Loss: \" + loss.value().values()[0])\n",
    "    }\n",
    "}"
   ],
   "metadata": {
    "collapsed": false,
    "ExecuteTime": {
     "end_time": "2023-09-07T17:21:05.582243Z",
     "start_time": "2023-09-07T17:21:05.344980Z"
    }
   }
  },
  {
   "cell_type": "code",
   "execution_count": 33,
   "outputs": [
    {
     "name": "stdout",
     "output_type": "stream",
     "text": [
      "[[5.1999884, 2.300006],\n",
      " [3.4999943, 6.4999886],\n",
      " [8.499977, 6.4999886]]\n"
     ]
    }
   ],
   "source": [
    "variable1.value().printMatrix()"
   ],
   "metadata": {
    "collapsed": false,
    "ExecuteTime": {
     "end_time": "2023-09-07T17:21:09.848511Z",
     "start_time": "2023-09-07T17:21:09.747308Z"
    }
   }
  },
  {
   "cell_type": "code",
   "execution_count": 29,
   "outputs": [
    {
     "name": "stdout",
     "output_type": "stream",
     "text": [
      "[[1.3096724E-10, 3.5527137E-11],\n",
      " [3.274181E-11, 1.3096724E-10],\n",
      " [5.2386895E-10, 1.3096724E-10]]\n"
     ]
    }
   ],
   "source": [
    "calcError(variable1,variable2).value().printMatrix()"
   ],
   "metadata": {
    "collapsed": false,
    "ExecuteTime": {
     "end_time": "2023-09-07T17:11:52.615310Z",
     "start_time": "2023-09-07T17:11:52.519160Z"
    }
   }
  }
 ],
 "metadata": {
  "kernelspec": {
   "display_name": "Kotlin",
   "language": "kotlin",
   "name": "kotlin"
  },
  "language_info": {
   "name": "kotlin",
   "version": "1.8.20",
   "mimetype": "text/x-kotlin",
   "file_extension": ".kt",
   "pygments_lexer": "kotlin",
   "codemirror_mode": "text/x-kotlin",
   "nbconvert_exporter": ""
  },
  "ktnbPluginMetadata": {
   "projectDependencies": [
    "kflow.main"
   ]
  }
 },
 "nbformat": 4,
 "nbformat_minor": 0
}
